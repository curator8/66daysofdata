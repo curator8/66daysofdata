{
  "nbformat": 4,
  "nbformat_minor": 0,
  "metadata": {
    "colab": {
      "name": "exercise_numpy.ipynb",
      "provenance": [],
      "authorship_tag": "ABX9TyPSA4GY3c5vQI4eyO7dzRTg",
      "include_colab_link": true
    },
    "kernelspec": {
      "name": "python3",
      "display_name": "Python 3"
    },
    "language_info": {
      "name": "python"
    }
  },
  "cells": [
    {
      "cell_type": "markdown",
      "metadata": {
        "id": "view-in-github",
        "colab_type": "text"
      },
      "source": [
        "<a href=\"https://colab.research.google.com/github/curator8/66daysofdata/blob/main/exercise_numpy.ipynb\" target=\"_parent\"><img src=\"https://colab.research.google.com/assets/colab-badge.svg\" alt=\"Open In Colab\"/></a>"
      ]
    },
    {
      "cell_type": "code",
      "metadata": {
        "id": "1X89z8tThttJ"
      },
      "source": [
        "import sys\n",
        "import numpy as np "
      ],
      "execution_count": 38,
      "outputs": []
    },
    {
      "cell_type": "code",
      "metadata": {
        "id": "qciTBVXLjkGz"
      },
      "source": [
        ""
      ],
      "execution_count": null,
      "outputs": []
    },
    {
      "cell_type": "markdown",
      "metadata": {
        "id": "juyGhzszjtCY"
      },
      "source": [
        "Basic Numpy notation"
      ]
    },
    {
      "cell_type": "code",
      "metadata": {
        "colab": {
          "base_uri": "https://localhost:8080/"
        },
        "id": "HE3YtbHgh0xy",
        "outputId": "0a223999-69c0-4d2f-eaf8-57a6096e7db0"
      },
      "source": [
        "np.array([1,2,3,4])"
      ],
      "execution_count": 6,
      "outputs": [
        {
          "output_type": "execute_result",
          "data": {
            "text/plain": [
              "array([1, 2, 3, 4])"
            ]
          },
          "metadata": {
            "tags": []
          },
          "execution_count": 6
        }
      ]
    },
    {
      "cell_type": "code",
      "metadata": {
        "id": "EzPYg7nUiCSh"
      },
      "source": [
        "a = np.array([1,2,3,4])"
      ],
      "execution_count": 7,
      "outputs": []
    },
    {
      "cell_type": "code",
      "metadata": {
        "id": "9zF7nhs6iojr"
      },
      "source": [
        "b = np.array([5,6,7,8,9])"
      ],
      "execution_count": 11,
      "outputs": []
    },
    {
      "cell_type": "code",
      "metadata": {
        "colab": {
          "base_uri": "https://localhost:8080/"
        },
        "id": "DOu5-47iiddT",
        "outputId": "29f637fc-d014-47aa-c85b-1551222e1bba"
      },
      "source": [
        "a[0]"
      ],
      "execution_count": null,
      "outputs": [
        {
          "output_type": "execute_result",
          "data": {
            "text/plain": [
              "1"
            ]
          },
          "metadata": {
            "tags": []
          },
          "execution_count": 5
        }
      ]
    },
    {
      "cell_type": "code",
      "metadata": {
        "colab": {
          "base_uri": "https://localhost:8080/"
        },
        "id": "-_vx4mPdiflJ",
        "outputId": "6c23e495-6e57-48f6-867f-2e9876172943"
      },
      "source": [
        "a[0:]"
      ],
      "execution_count": null,
      "outputs": [
        {
          "output_type": "execute_result",
          "data": {
            "text/plain": [
              "array([1, 2, 3, 4])"
            ]
          },
          "metadata": {
            "tags": []
          },
          "execution_count": 6
        }
      ]
    },
    {
      "cell_type": "code",
      "metadata": {
        "colab": {
          "base_uri": "https://localhost:8080/"
        },
        "id": "9Ba8S1XJiiMa",
        "outputId": "64f32c3e-6fd7-47e0-cbff-dd072bfbb1c4"
      },
      "source": [
        "a[:2]"
      ],
      "execution_count": null,
      "outputs": [
        {
          "output_type": "execute_result",
          "data": {
            "text/plain": [
              "array([1, 2])"
            ]
          },
          "metadata": {
            "tags": []
          },
          "execution_count": 7
        }
      ]
    },
    {
      "cell_type": "code",
      "metadata": {
        "colab": {
          "base_uri": "https://localhost:8080/"
        },
        "id": "PeUl7ZvNik1L",
        "outputId": "afb6ed7b-9323-4209-c9fa-3fb7ad005ad8"
      },
      "source": [
        "a[1:-1]"
      ],
      "execution_count": null,
      "outputs": [
        {
          "output_type": "execute_result",
          "data": {
            "text/plain": [
              "array([2, 3])"
            ]
          },
          "metadata": {
            "tags": []
          },
          "execution_count": 10
        }
      ]
    },
    {
      "cell_type": "code",
      "metadata": {
        "colab": {
          "base_uri": "https://localhost:8080/"
        },
        "id": "u4QgPCiOi1KT",
        "outputId": "9acb2eae-0b51-4650-a257-6c359a01990a"
      },
      "source": [
        "b[0], b[1], b[-1]"
      ],
      "execution_count": null,
      "outputs": [
        {
          "output_type": "execute_result",
          "data": {
            "text/plain": [
              "(5, 6, 9)"
            ]
          },
          "metadata": {
            "tags": []
          },
          "execution_count": 11
        }
      ]
    },
    {
      "cell_type": "code",
      "metadata": {
        "colab": {
          "base_uri": "https://localhost:8080/"
        },
        "id": "emYuJ3W7i_TQ",
        "outputId": "30db19c1-1b02-43f2-d925-f33d8c3497b4"
      },
      "source": [
        "b[[0, 1, -1]]"
      ],
      "execution_count": null,
      "outputs": [
        {
          "output_type": "execute_result",
          "data": {
            "text/plain": [
              "array([5, 6, 9])"
            ]
          },
          "metadata": {
            "tags": []
          },
          "execution_count": 13
        }
      ]
    },
    {
      "cell_type": "code",
      "metadata": {
        "id": "M9vnDlwHjUk8"
      },
      "source": [
        ""
      ],
      "execution_count": null,
      "outputs": []
    },
    {
      "cell_type": "markdown",
      "metadata": {
        "id": "7zkWnW78qQ6m"
      },
      "source": [
        "Array types "
      ]
    },
    {
      "cell_type": "code",
      "metadata": {
        "colab": {
          "base_uri": "https://localhost:8080/"
        },
        "id": "97LrpjSDqScC",
        "outputId": "a21d99e6-92f8-42af-acff-ae859c9c0fa2"
      },
      "source": [
        "a"
      ],
      "execution_count": 13,
      "outputs": [
        {
          "output_type": "execute_result",
          "data": {
            "text/plain": [
              "array([1, 2, 3, 4])"
            ]
          },
          "metadata": {
            "tags": []
          },
          "execution_count": 13
        }
      ]
    },
    {
      "cell_type": "code",
      "metadata": {
        "colab": {
          "base_uri": "https://localhost:8080/"
        },
        "id": "bsCcZ4CMqTWz",
        "outputId": "a40f3f72-9de7-4090-ab02-7e4f0f52af10"
      },
      "source": [
        "a.dtype"
      ],
      "execution_count": 9,
      "outputs": [
        {
          "output_type": "execute_result",
          "data": {
            "text/plain": [
              "dtype('int64')"
            ]
          },
          "metadata": {
            "tags": []
          },
          "execution_count": 9
        }
      ]
    },
    {
      "cell_type": "code",
      "metadata": {
        "colab": {
          "base_uri": "https://localhost:8080/",
          "height": 195
        },
        "id": "OvrG6AHeqUxC",
        "outputId": "3d479ccb-7385-472d-e942-7f4a0f570a63"
      },
      "source": [
        ""
      ],
      "execution_count": 2,
      "outputs": [
        {
          "output_type": "error",
          "ename": "NameError",
          "evalue": "ignored",
          "traceback": [
            "\u001b[0;31m---------------------------------------------------------------------------\u001b[0m",
            "\u001b[0;31mNameError\u001b[0m                                 Traceback (most recent call last)",
            "\u001b[0;32m<ipython-input-2-c9e9d534014f>\u001b[0m in \u001b[0;36m<module>\u001b[0;34m()\u001b[0m\n\u001b[0;32m----> 1\u001b[0;31m \u001b[0mdtype\u001b[0m\u001b[0;34m(\u001b[0m\u001b[0;34m'int64'\u001b[0m\u001b[0;34m)\u001b[0m\u001b[0;34m\u001b[0m\u001b[0;34m\u001b[0m\u001b[0m\n\u001b[0m",
            "\u001b[0;31mNameError\u001b[0m: name 'dtype' is not defined"
          ]
        }
      ]
    },
    {
      "cell_type": "code",
      "metadata": {
        "colab": {
          "base_uri": "https://localhost:8080/"
        },
        "id": "3T-SWbKAqYtS",
        "outputId": "18ab0fb8-4d93-454a-e259-4ee5d1c77007"
      },
      "source": [
        "b"
      ],
      "execution_count": 12,
      "outputs": [
        {
          "output_type": "execute_result",
          "data": {
            "text/plain": [
              "array([5, 6, 7, 8, 9])"
            ]
          },
          "metadata": {
            "tags": []
          },
          "execution_count": 12
        }
      ]
    },
    {
      "cell_type": "code",
      "metadata": {
        "colab": {
          "base_uri": "https://localhost:8080/"
        },
        "id": "EhOtIWkUqbhK",
        "outputId": "58801224-1e77-4457-ef57-707d74bfe5d1"
      },
      "source": [
        "b.dtype"
      ],
      "execution_count": 14,
      "outputs": [
        {
          "output_type": "execute_result",
          "data": {
            "text/plain": [
              "dtype('int64')"
            ]
          },
          "metadata": {
            "tags": []
          },
          "execution_count": 14
        }
      ]
    },
    {
      "cell_type": "code",
      "metadata": {
        "id": "sJayI1ysqtGL"
      },
      "source": [
        " "
      ],
      "execution_count": null,
      "outputs": []
    },
    {
      "cell_type": "code",
      "metadata": {
        "id": "xUSgjDTOsepR"
      },
      "source": [
        "nd sha"
      ],
      "execution_count": null,
      "outputs": []
    },
    {
      "cell_type": "markdown",
      "metadata": {
        "id": "wZdxphJ-scRR"
      },
      "source": [
        "Dimensions shapes "
      ]
    },
    {
      "cell_type": "code",
      "metadata": {
        "id": "6MOYt2hdsdwJ"
      },
      "source": [
        "A = np.array([\n",
        "      [1,2,3],\n",
        "      [4,5,6],\n",
        "      [7,8,9] \n",
        "])"
      ],
      "execution_count": 19,
      "outputs": []
    },
    {
      "cell_type": "code",
      "metadata": {
        "id": "TxbLV9dKsu0N"
      },
      "source": [
        "# total size of the array above is 6 "
      ],
      "execution_count": 16,
      "outputs": []
    },
    {
      "cell_type": "code",
      "metadata": {
        "colab": {
          "base_uri": "https://localhost:8080/"
        },
        "id": "buBGunk6s3Rn",
        "outputId": "dcc86158-06ab-4037-8b92-a248049a49d3"
      },
      "source": [
        "A.shape "
      ],
      "execution_count": 20,
      "outputs": [
        {
          "output_type": "execute_result",
          "data": {
            "text/plain": [
              "(3, 3)"
            ]
          },
          "metadata": {
            "tags": []
          },
          "execution_count": 20
        }
      ]
    },
    {
      "cell_type": "code",
      "metadata": {
        "id": "Dw2uhD8Ps_8L"
      },
      "source": [
        ""
      ],
      "execution_count": null,
      "outputs": []
    },
    {
      "cell_type": "markdown",
      "metadata": {
        "id": "_CuttuNWtLeU"
      },
      "source": [
        "Indexing and slicing Matrices "
      ]
    },
    {
      "cell_type": "code",
      "metadata": {
        "id": "4h-DsylQtMsf"
      },
      "source": [
        "#square matrix \n",
        "A = np.array([\n",
        "              [1,2,3],\n",
        "              [4,5,6],\n",
        "              [7,8,9]\n",
        "            \n",
        "])"
      ],
      "execution_count": 21,
      "outputs": []
    },
    {
      "cell_type": "code",
      "metadata": {
        "colab": {
          "base_uri": "https://localhost:8080/"
        },
        "id": "6s5p3Pmwt-1G",
        "outputId": "4642b49a-50d3-4b7e-ec40-2560b88c8167"
      },
      "source": [
        "A[1,1]"
      ],
      "execution_count": 22,
      "outputs": [
        {
          "output_type": "execute_result",
          "data": {
            "text/plain": [
              "5"
            ]
          },
          "metadata": {
            "tags": []
          },
          "execution_count": 22
        }
      ]
    },
    {
      "cell_type": "code",
      "metadata": {
        "colab": {
          "base_uri": "https://localhost:8080/"
        },
        "id": "t6qkHC4XuAnK",
        "outputId": "f1470064-ad2b-4de8-ed89-f2fa0500411d"
      },
      "source": [
        "A[0:2]"
      ],
      "execution_count": 23,
      "outputs": [
        {
          "output_type": "execute_result",
          "data": {
            "text/plain": [
              "array([[1, 2, 3],\n",
              "       [4, 5, 6]])"
            ]
          },
          "metadata": {
            "tags": []
          },
          "execution_count": 23
        }
      ]
    },
    {
      "cell_type": "code",
      "metadata": {
        "colab": {
          "base_uri": "https://localhost:8080/"
        },
        "id": "dR08m1t1uGLC",
        "outputId": "f3fffb4e-7510-4288-de2b-dff47236a77a"
      },
      "source": [
        "A[:, :2]"
      ],
      "execution_count": 24,
      "outputs": [
        {
          "output_type": "execute_result",
          "data": {
            "text/plain": [
              "array([[1, 2],\n",
              "       [4, 5],\n",
              "       [7, 8]])"
            ]
          },
          "metadata": {
            "tags": []
          },
          "execution_count": 24
        }
      ]
    },
    {
      "cell_type": "code",
      "metadata": {
        "id": "Vra62IJiuXJN"
      },
      "source": [
        "A[1] = np.array([10,10,10])"
      ],
      "execution_count": 25,
      "outputs": []
    },
    {
      "cell_type": "code",
      "metadata": {
        "colab": {
          "base_uri": "https://localhost:8080/"
        },
        "id": "g22bwky7uuu9",
        "outputId": "920dbe3f-e7fd-4853-e3de-ee9f2df404e5"
      },
      "source": [
        "A\n"
      ],
      "execution_count": 26,
      "outputs": [
        {
          "output_type": "execute_result",
          "data": {
            "text/plain": [
              "array([[ 1,  2,  3],\n",
              "       [10, 10, 10],\n",
              "       [ 7,  8,  9]])"
            ]
          },
          "metadata": {
            "tags": []
          },
          "execution_count": 26
        }
      ]
    },
    {
      "cell_type": "code",
      "metadata": {
        "id": "wRx7deNHuwj-"
      },
      "source": [
        "A[2] = 99"
      ],
      "execution_count": 27,
      "outputs": []
    },
    {
      "cell_type": "code",
      "metadata": {
        "colab": {
          "base_uri": "https://localhost:8080/"
        },
        "id": "4vjicqVCu0lW",
        "outputId": "8b354e46-d111-430d-a403-c6daee17430e"
      },
      "source": [
        "A"
      ],
      "execution_count": 28,
      "outputs": [
        {
          "output_type": "execute_result",
          "data": {
            "text/plain": [
              "array([[ 1,  2,  3],\n",
              "       [10, 10, 10],\n",
              "       [99, 99, 99]])"
            ]
          },
          "metadata": {
            "tags": []
          },
          "execution_count": 28
        }
      ]
    },
    {
      "cell_type": "code",
      "metadata": {
        "id": "cTaU0-RZu1zd"
      },
      "source": [
        ""
      ],
      "execution_count": null,
      "outputs": []
    },
    {
      "cell_type": "markdown",
      "metadata": {
        "id": "u3-tP60-u21_"
      },
      "source": [
        "Summary Statistics"
      ]
    },
    {
      "cell_type": "code",
      "metadata": {
        "id": "ikDU5HcZu43w"
      },
      "source": [
        "a = np.array([\n",
        "    [1,2,3,4],\n",
        "    [1,2,4,5],\n",
        "    [6,7,8,9]\n",
        "])"
      ],
      "execution_count": 42,
      "outputs": []
    },
    {
      "cell_type": "code",
      "metadata": {
        "colab": {
          "base_uri": "https://localhost:8080/"
        },
        "id": "PqG1dUqnvLyK",
        "outputId": "c37f1ee1-1d98-4b74-ba44-ef34921f177d"
      },
      "source": [
        "a.sum()"
      ],
      "execution_count": 30,
      "outputs": [
        {
          "output_type": "execute_result",
          "data": {
            "text/plain": [
              "10"
            ]
          },
          "metadata": {
            "tags": []
          },
          "execution_count": 30
        }
      ]
    },
    {
      "cell_type": "code",
      "metadata": {
        "colab": {
          "base_uri": "https://localhost:8080/"
        },
        "id": "-q8aol9WvNVN",
        "outputId": "fb5e0930-15eb-4ca6-9dfe-3bc44af4bf4d"
      },
      "source": [
        "a.sum()"
      ],
      "execution_count": 31,
      "outputs": [
        {
          "output_type": "execute_result",
          "data": {
            "text/plain": [
              "10"
            ]
          },
          "metadata": {
            "tags": []
          },
          "execution_count": 31
        }
      ]
    },
    {
      "cell_type": "code",
      "metadata": {
        "id": "kmt-GeRzvmPF",
        "outputId": "f493e4e8-5491-453d-fbb0-966dbcfc790c",
        "colab": {
          "base_uri": "https://localhost:8080/"
        }
      },
      "source": [
        "a.mean()"
      ],
      "execution_count": 32,
      "outputs": [
        {
          "output_type": "execute_result",
          "data": {
            "text/plain": [
              "2.5"
            ]
          },
          "metadata": {
            "tags": []
          },
          "execution_count": 32
        }
      ]
    },
    {
      "cell_type": "code",
      "metadata": {
        "id": "VXRLpjnLvnhs",
        "outputId": "7bf0be1a-f728-4764-c8a3-4dd356f68cbc",
        "colab": {
          "base_uri": "https://localhost:8080/"
        }
      },
      "source": [
        "a.std()"
      ],
      "execution_count": 34,
      "outputs": [
        {
          "output_type": "execute_result",
          "data": {
            "text/plain": [
              "1.118033988749895"
            ]
          },
          "metadata": {
            "tags": []
          },
          "execution_count": 34
        }
      ]
    },
    {
      "cell_type": "code",
      "metadata": {
        "id": "6NuJAxkVvojp",
        "outputId": "203c9d04-c1eb-4e23-ae90-25aa09504f7d",
        "colab": {
          "base_uri": "https://localhost:8080/"
        }
      },
      "source": [
        " a.sum(axis=0)\n"
      ],
      "execution_count": 43,
      "outputs": [
        {
          "output_type": "execute_result",
          "data": {
            "text/plain": [
              "array([ 8, 11, 15, 18])"
            ]
          },
          "metadata": {
            "tags": []
          },
          "execution_count": 43
        }
      ]
    },
    {
      "cell_type": "code",
      "metadata": {
        "id": "n3HwwuwK9f06",
        "outputId": "cfba4c4d-d1ef-47c3-841f-7c3756b54ec9",
        "colab": {
          "base_uri": "https://localhost:8080/"
        }
      },
      "source": [
        "a.sum(axis=1)"
      ],
      "execution_count": 44,
      "outputs": [
        {
          "output_type": "execute_result",
          "data": {
            "text/plain": [
              "array([10, 12, 30])"
            ]
          },
          "metadata": {
            "tags": []
          },
          "execution_count": 44
        }
      ]
    },
    {
      "cell_type": "code",
      "metadata": {
        "id": "Rq_uLehJ9nUA"
      },
      "source": [
        ""
      ],
      "execution_count": null,
      "outputs": []
    },
    {
      "cell_type": "markdown",
      "metadata": {
        "id": "uRSx2QTc-MWo"
      },
      "source": [
        "broadcasting and vectorized operations"
      ]
    },
    {
      "cell_type": "code",
      "metadata": {
        "id": "yzUUqZOu-OaV"
      },
      "source": [
        "a = np.arange(4)"
      ],
      "execution_count": 45,
      "outputs": []
    },
    {
      "cell_type": "code",
      "metadata": {
        "id": "LIfxll13-QtU",
        "outputId": "549fdfa3-a644-41d0-c4d3-672393711c7c",
        "colab": {
          "base_uri": "https://localhost:8080/"
        }
      },
      "source": [
        "a"
      ],
      "execution_count": 46,
      "outputs": [
        {
          "output_type": "execute_result",
          "data": {
            "text/plain": [
              "array([0, 1, 2, 3])"
            ]
          },
          "metadata": {
            "tags": []
          },
          "execution_count": 46
        }
      ]
    },
    {
      "cell_type": "code",
      "metadata": {
        "id": "GN0Aa4W4-a3X",
        "outputId": "9e445c4a-4207-46fb-92ae-378ab4267619",
        "colab": {
          "base_uri": "https://localhost:8080/"
        }
      },
      "source": [
        "a + 10 "
      ],
      "execution_count": 47,
      "outputs": [
        {
          "output_type": "execute_result",
          "data": {
            "text/plain": [
              "array([10, 11, 12, 13])"
            ]
          },
          "metadata": {
            "tags": []
          },
          "execution_count": 47
        }
      ]
    },
    {
      "cell_type": "code",
      "metadata": {
        "id": "Zl5pu-ce-y1x",
        "outputId": "e0200c5c-4e2b-415a-feef-e17f68e7ffc3",
        "colab": {
          "base_uri": "https://localhost:8080/"
        }
      },
      "source": [
        "a * 10"
      ],
      "execution_count": 48,
      "outputs": [
        {
          "output_type": "execute_result",
          "data": {
            "text/plain": [
              "array([ 0, 10, 20, 30])"
            ]
          },
          "metadata": {
            "tags": []
          },
          "execution_count": 48
        }
      ]
    },
    {
      "cell_type": "code",
      "metadata": {
        "id": "c74gVZ-G-2fM",
        "outputId": "e3c1ffe7-f431-45ae-e17f-21fea623795b",
        "colab": {
          "base_uri": "https://localhost:8080/"
        }
      },
      "source": [
        "a "
      ],
      "execution_count": 49,
      "outputs": [
        {
          "output_type": "execute_result",
          "data": {
            "text/plain": [
              "array([0, 1, 2, 3])"
            ]
          },
          "metadata": {
            "tags": []
          },
          "execution_count": 49
        }
      ]
    },
    {
      "cell_type": "code",
      "metadata": {
        "id": "geavlpmD-3-V"
      },
      "source": [
        "a += 100"
      ],
      "execution_count": 50,
      "outputs": []
    },
    {
      "cell_type": "code",
      "metadata": {
        "id": "yRewDL70-6_m",
        "outputId": "d7768a2f-5123-4758-c0a4-d1edef5875d3",
        "colab": {
          "base_uri": "https://localhost:8080/"
        }
      },
      "source": [
        "a"
      ],
      "execution_count": 51,
      "outputs": [
        {
          "output_type": "execute_result",
          "data": {
            "text/plain": [
              "array([100, 101, 102, 103])"
            ]
          },
          "metadata": {
            "tags": []
          },
          "execution_count": 51
        }
      ]
    },
    {
      "cell_type": "code",
      "metadata": {
        "id": "GHfI6bjk-7-7"
      },
      "source": [
        "l = [0, 1, 2, 3]"
      ],
      "execution_count": 52,
      "outputs": []
    },
    {
      "cell_type": "code",
      "metadata": {
        "id": "0sFIDNEA_D0x",
        "outputId": "b9a89034-a895-49b3-8c7f-ff40c199ee52",
        "colab": {
          "base_uri": "https://localhost:8080/"
        }
      },
      "source": [
        "[i * 10 for i in l]"
      ],
      "execution_count": 53,
      "outputs": [
        {
          "output_type": "execute_result",
          "data": {
            "text/plain": [
              "[0, 10, 20, 30]"
            ]
          },
          "metadata": {
            "tags": []
          },
          "execution_count": 53
        }
      ]
    },
    {
      "cell_type": "code",
      "metadata": {
        "id": "lZjnpYpc_Qoy"
      },
      "source": [
        "a = np.arange(4)"
      ],
      "execution_count": 54,
      "outputs": []
    },
    {
      "cell_type": "code",
      "metadata": {
        "id": "POTNF2sU_2KE",
        "outputId": "3694e113-c709-4945-d912-525b2125c098",
        "colab": {
          "base_uri": "https://localhost:8080/"
        }
      },
      "source": [
        "a"
      ],
      "execution_count": 55,
      "outputs": [
        {
          "output_type": "execute_result",
          "data": {
            "text/plain": [
              "array([0, 1, 2, 3])"
            ]
          },
          "metadata": {
            "tags": []
          },
          "execution_count": 55
        }
      ]
    },
    {
      "cell_type": "code",
      "metadata": {
        "id": "5ODEUfhK_2hM"
      },
      "source": [
        "b = np.array([10,10,10,10])"
      ],
      "execution_count": 56,
      "outputs": []
    },
    {
      "cell_type": "code",
      "metadata": {
        "id": "4C9by-BU_92F",
        "outputId": "fd16aab8-0fcf-48fc-9b5a-6d1fef8c9ce2",
        "colab": {
          "base_uri": "https://localhost:8080/"
        }
      },
      "source": [
        "b"
      ],
      "execution_count": 57,
      "outputs": [
        {
          "output_type": "execute_result",
          "data": {
            "text/plain": [
              "array([10, 10, 10, 10])"
            ]
          },
          "metadata": {
            "tags": []
          },
          "execution_count": 57
        }
      ]
    },
    {
      "cell_type": "code",
      "metadata": {
        "id": "Gcoh3UYY_-Dn",
        "outputId": "463d5747-43e7-4498-d2bf-a074062a6672",
        "colab": {
          "base_uri": "https://localhost:8080/"
        }
      },
      "source": [
        "a + b"
      ],
      "execution_count": 58,
      "outputs": [
        {
          "output_type": "execute_result",
          "data": {
            "text/plain": [
              "array([10, 11, 12, 13])"
            ]
          },
          "metadata": {
            "tags": []
          },
          "execution_count": 58
        }
      ]
    },
    {
      "cell_type": "code",
      "metadata": {
        "id": "0-jOVjlS__yS",
        "outputId": "1308d71c-bcb0-4e78-8a79-2ffa92d493fb",
        "colab": {
          "base_uri": "https://localhost:8080/"
        }
      },
      "source": [
        "a * b"
      ],
      "execution_count": 59,
      "outputs": [
        {
          "output_type": "execute_result",
          "data": {
            "text/plain": [
              "array([ 0, 10, 20, 30])"
            ]
          },
          "metadata": {
            "tags": []
          },
          "execution_count": 59
        }
      ]
    },
    {
      "cell_type": "code",
      "metadata": {
        "id": "Zyfqy-7AAC7m"
      },
      "source": [
        ""
      ],
      "execution_count": null,
      "outputs": []
    },
    {
      "cell_type": "markdown",
      "metadata": {
        "id": "LVWaJLkgAb3N"
      },
      "source": [
        ""
      ]
    },
    {
      "cell_type": "markdown",
      "metadata": {
        "id": "IZvXVCk_AcAa"
      },
      "source": [
        "this topic of vectorized operations is so important because of Boolean arrays"
      ]
    },
    {
      "cell_type": "code",
      "metadata": {
        "id": "wnb8taJHAjNM"
      },
      "source": [
        ""
      ],
      "execution_count": null,
      "outputs": []
    },
    {
      "cell_type": "markdown",
      "metadata": {
        "id": "8ltp5vluAkKZ"
      },
      "source": [
        "Boolean arrays (also called masks)"
      ]
    },
    {
      "cell_type": "code",
      "metadata": {
        "id": "fqWUhjRjAmqj"
      },
      "source": [
        "a = np.arange(4)"
      ],
      "execution_count": 60,
      "outputs": []
    },
    {
      "cell_type": "code",
      "metadata": {
        "id": "R-hfib1vAx3P",
        "outputId": "3ec0616d-a8bf-4e90-d37d-6b465e32e474",
        "colab": {
          "base_uri": "https://localhost:8080/"
        }
      },
      "source": [
        "a"
      ],
      "execution_count": 61,
      "outputs": [
        {
          "output_type": "execute_result",
          "data": {
            "text/plain": [
              "array([0, 1, 2, 3])"
            ]
          },
          "metadata": {
            "tags": []
          },
          "execution_count": 61
        }
      ]
    },
    {
      "cell_type": "code",
      "metadata": {
        "id": "d9wVCuZzAyDP",
        "outputId": "e3ea7ff6-f7c1-4449-c6e9-93e507ec9473",
        "colab": {
          "base_uri": "https://localhost:8080/"
        }
      },
      "source": [
        "a[[0,-1]]"
      ],
      "execution_count": 62,
      "outputs": [
        {
          "output_type": "execute_result",
          "data": {
            "text/plain": [
              "array([0, 3])"
            ]
          },
          "metadata": {
            "tags": []
          },
          "execution_count": 62
        }
      ]
    },
    {
      "cell_type": "code",
      "metadata": {
        "id": "d1QMjRGBA1hH",
        "outputId": "cf198f75-41ad-42ea-cfc1-51a0489ca36e",
        "colab": {
          "base_uri": "https://localhost:8080/"
        }
      },
      "source": [
        "a[[True, False, False, True]]"
      ],
      "execution_count": 67,
      "outputs": [
        {
          "output_type": "execute_result",
          "data": {
            "text/plain": [
              "array([0, 3])"
            ]
          },
          "metadata": {
            "tags": []
          },
          "execution_count": 67
        }
      ]
    },
    {
      "cell_type": "code",
      "metadata": {
        "id": "wP1cBZvnBAei"
      },
      "source": [
        ""
      ],
      "execution_count": null,
      "outputs": []
    },
    {
      "cell_type": "markdown",
      "metadata": {
        "id": "ehEcxaplBBVY"
      },
      "source": [
        "we select true or false depending on whether we want to select the element or not. "
      ]
    },
    {
      "cell_type": "code",
      "metadata": {
        "id": "EQTedKQEBZL-",
        "outputId": "96c33a02-995a-4d66-ce4c-f923c2e31a89",
        "colab": {
          "base_uri": "https://localhost:8080/"
        }
      },
      "source": [
        "a >= 2"
      ],
      "execution_count": 68,
      "outputs": [
        {
          "output_type": "execute_result",
          "data": {
            "text/plain": [
              "array([False, False,  True,  True])"
            ]
          },
          "metadata": {
            "tags": []
          },
          "execution_count": 68
        }
      ]
    },
    {
      "cell_type": "code",
      "metadata": {
        "id": "WehiX5mrBbUF"
      },
      "source": [
        ""
      ],
      "execution_count": null,
      "outputs": []
    },
    {
      "cell_type": "markdown",
      "metadata": {
        "id": "2Uj3cBpkCaje"
      },
      "source": [
        "using boolean operators allows us to take advantage of the boolean arrays"
      ]
    },
    {
      "cell_type": "code",
      "metadata": {
        "id": "vANyRgGWCek4",
        "outputId": "a3f5e6df-b026-410b-b79e-aec8cd2ae0a0",
        "colab": {
          "base_uri": "https://localhost:8080/"
        }
      },
      "source": [
        "a[a >= 2]"
      ],
      "execution_count": 69,
      "outputs": [
        {
          "output_type": "execute_result",
          "data": {
            "text/plain": [
              "array([2, 3])"
            ]
          },
          "metadata": {
            "tags": []
          },
          "execution_count": 69
        }
      ]
    },
    {
      "cell_type": "code",
      "metadata": {
        "id": "qmGurN3fCh6y"
      },
      "source": [
        ""
      ],
      "execution_count": null,
      "outputs": []
    },
    {
      "cell_type": "markdown",
      "metadata": {
        "id": "jKhjLmLFC5e8"
      },
      "source": [
        "the expression above can select elements of the boolean of the array by setting the condition a >= 2"
      ]
    },
    {
      "cell_type": "code",
      "metadata": {
        "id": "KI54l-O8DBhX",
        "outputId": "215ddfa3-c0af-4fd4-f9e0-29dfd8b0eb78",
        "colab": {
          "base_uri": "https://localhost:8080/"
        }
      },
      "source": [
        "a[a > a.mean()]"
      ],
      "execution_count": 71,
      "outputs": [
        {
          "output_type": "execute_result",
          "data": {
            "text/plain": [
              "array([2, 3])"
            ]
          },
          "metadata": {
            "tags": []
          },
          "execution_count": 71
        }
      ]
    },
    {
      "cell_type": "code",
      "metadata": {
        "id": "AOyZirmwDdi6",
        "outputId": "d47be337-1979-4a74-b045-efe6b2009a26",
        "colab": {
          "base_uri": "https://localhost:8080/"
        }
      },
      "source": [
        "a[~(a > a.mean())]\n"
      ],
      "execution_count": 74,
      "outputs": [
        {
          "output_type": "execute_result",
          "data": {
            "text/plain": [
              "array([0, 1])"
            ]
          },
          "metadata": {
            "tags": []
          },
          "execution_count": 74
        }
      ]
    },
    {
      "cell_type": "code",
      "metadata": {
        "id": "5VREENtlDnTs"
      },
      "source": [
        ""
      ],
      "execution_count": null,
      "outputs": []
    },
    {
      "cell_type": "markdown",
      "metadata": {
        "id": "KQGQvrN9Dyi6"
      },
      "source": [
        "not greater than the mean"
      ]
    },
    {
      "cell_type": "code",
      "metadata": {
        "id": "sQgW4vwsD1Yo",
        "outputId": "5c3c52ad-ec00-4a84-a5c0-2e4a2c0586c5",
        "colab": {
          "base_uri": "https://localhost:8080/"
        }
      },
      "source": [
        "a[(a <= 2) & (a % 2 == 0)]"
      ],
      "execution_count": 75,
      "outputs": [
        {
          "output_type": "execute_result",
          "data": {
            "text/plain": [
              "array([0, 2])"
            ]
          },
          "metadata": {
            "tags": []
          },
          "execution_count": 75
        }
      ]
    },
    {
      "cell_type": "code",
      "metadata": {
        "id": "LhWFzTVVEGFM",
        "outputId": "f8e9b7e1-1047-46c9-c494-cf74bc9990b8",
        "colab": {
          "base_uri": "https://localhost:8080/"
        }
      },
      "source": [
        "a[(a == 0) | (a == 1)]"
      ],
      "execution_count": 76,
      "outputs": [
        {
          "output_type": "execute_result",
          "data": {
            "text/plain": [
              "array([0, 1])"
            ]
          },
          "metadata": {
            "tags": []
          },
          "execution_count": 76
        }
      ]
    },
    {
      "cell_type": "code",
      "metadata": {
        "id": "ZuSiU7BgEP-c",
        "outputId": "9ed05d22-5422-4fcc-9d8f-30c421db6854",
        "colab": {
          "base_uri": "https://localhost:8080/"
        }
      },
      "source": [
        "a[(a == 0) | (a == 1)]"
      ],
      "execution_count": 77,
      "outputs": [
        {
          "output_type": "execute_result",
          "data": {
            "text/plain": [
              "array([0, 1])"
            ]
          },
          "metadata": {
            "tags": []
          },
          "execution_count": 77
        }
      ]
    },
    {
      "cell_type": "code",
      "metadata": {
        "id": "fDXo4G-VEYzg"
      },
      "source": [
        "A = np.random.randint(100, size = (3,3))"
      ],
      "execution_count": 83,
      "outputs": []
    },
    {
      "cell_type": "code",
      "metadata": {
        "id": "VigWHjRMEkq4",
        "outputId": "a024f601-f830-4858-cbdd-5959a47a01d9",
        "colab": {
          "base_uri": "https://localhost:8080/"
        }
      },
      "source": [
        "A"
      ],
      "execution_count": 84,
      "outputs": [
        {
          "output_type": "execute_result",
          "data": {
            "text/plain": [
              "array([[65, 11, 80],\n",
              "       [21, 17, 34],\n",
              "       [89, 50, 97]])"
            ]
          },
          "metadata": {
            "tags": []
          },
          "execution_count": 84
        }
      ]
    },
    {
      "cell_type": "code",
      "metadata": {
        "id": "uTRl-RH_El-o",
        "outputId": "44d47c75-9b1f-47fd-d71e-a517dec6c00a",
        "colab": {
          "base_uri": "https://localhost:8080/"
        }
      },
      "source": [
        "A[np.array([\n",
        "    [True, False, True],\n",
        "    [False, True, False],\n",
        "    [True, False, True]             \n",
        "])]  "
      ],
      "execution_count": 85,
      "outputs": [
        {
          "output_type": "execute_result",
          "data": {
            "text/plain": [
              "array([65, 80, 17, 89, 97])"
            ]
          },
          "metadata": {
            "tags": []
          },
          "execution_count": 85
        }
      ]
    },
    {
      "cell_type": "code",
      "metadata": {
        "id": "5xPpm39IFFDW",
        "outputId": "5fd6a2e1-f4d8-4c7a-fa25-867c54167168",
        "colab": {
          "base_uri": "https://localhost:8080/"
        }
      },
      "source": [
        "A > 30"
      ],
      "execution_count": 86,
      "outputs": [
        {
          "output_type": "execute_result",
          "data": {
            "text/plain": [
              "array([[ True, False,  True],\n",
              "       [False, False,  True],\n",
              "       [ True,  True,  True]])"
            ]
          },
          "metadata": {
            "tags": []
          },
          "execution_count": 86
        }
      ]
    },
    {
      "cell_type": "code",
      "metadata": {
        "id": "m1u2E-AaFOdi",
        "outputId": "9daab5a7-40bb-48d2-a301-dcaba9489e0c",
        "colab": {
          "base_uri": "https://localhost:8080/"
        }
      },
      "source": [
        "a[(a == 0) | (a == 1)]"
      ],
      "execution_count": 87,
      "outputs": [
        {
          "output_type": "execute_result",
          "data": {
            "text/plain": [
              "array([0, 1])"
            ]
          },
          "metadata": {
            "tags": []
          },
          "execution_count": 87
        }
      ]
    },
    {
      "cell_type": "code",
      "metadata": {
        "id": "0MOpqMkzFmNR"
      },
      "source": [
        ""
      ],
      "execution_count": null,
      "outputs": []
    },
    {
      "cell_type": "markdown",
      "metadata": {
        "id": "U1gFMC9IF4LL"
      },
      "source": [
        "we can use boolean expressions for filtering purposes which is really nice for a big data set."
      ]
    },
    {
      "cell_type": "code",
      "metadata": {
        "id": "UnWM-kElF8tu"
      },
      "source": [
        ""
      ],
      "execution_count": null,
      "outputs": []
    },
    {
      "cell_type": "markdown",
      "metadata": {
        "id": "HOM30Z24GDhy"
      },
      "source": [
        "Linear Algebra"
      ]
    },
    {
      "cell_type": "code",
      "metadata": {
        "id": "FA1xsIaLGEf0"
      },
      "source": [
        "A = np.array([\n",
        "      [1,2,3],\n",
        "      [4,5,6],\n",
        "      [7,8,9]\n",
        "\n",
        "])"
      ],
      "execution_count": 88,
      "outputs": []
    },
    {
      "cell_type": "code",
      "metadata": {
        "id": "ZoitwoHFGQ3a"
      },
      "source": [
        "B = np.array([\n",
        "      [6,5],\n",
        "      [4,3],\n",
        "      [2,1]\n",
        "])"
      ],
      "execution_count": 94,
      "outputs": []
    },
    {
      "cell_type": "code",
      "metadata": {
        "id": "QtQhIRjSGaAg",
        "outputId": "3083ac41-c886-42e3-915b-90a3a6aa217e",
        "colab": {
          "base_uri": "https://localhost:8080/"
        }
      },
      "source": [
        "A.dot(B)"
      ],
      "execution_count": 95,
      "outputs": [
        {
          "output_type": "execute_result",
          "data": {
            "text/plain": [
              "array([[20, 14],\n",
              "       [56, 41],\n",
              "       [92, 68]])"
            ]
          },
          "metadata": {
            "tags": []
          },
          "execution_count": 95
        }
      ]
    },
    {
      "cell_type": "code",
      "metadata": {
        "id": "Kx8XayOfGdbo",
        "outputId": "0e35ec57-c35e-4704-ed59-ccaf5de80d83",
        "colab": {
          "base_uri": "https://localhost:8080/"
        }
      },
      "source": [
        "A @ B #cross product"
      ],
      "execution_count": 96,
      "outputs": [
        {
          "output_type": "execute_result",
          "data": {
            "text/plain": [
              "array([[20, 14],\n",
              "       [56, 41],\n",
              "       [92, 68]])"
            ]
          },
          "metadata": {
            "tags": []
          },
          "execution_count": 96
        }
      ]
    },
    {
      "cell_type": "code",
      "metadata": {
        "id": "IF73sv-hG2SA",
        "outputId": "30e33ddb-0dcf-4083-8d3b-4c979bc624f6",
        "colab": {
          "base_uri": "https://localhost:8080/"
        }
      },
      "source": [
        "B.T #transposing"
      ],
      "execution_count": 97,
      "outputs": [
        {
          "output_type": "execute_result",
          "data": {
            "text/plain": [
              "array([[6, 4, 2],\n",
              "       [5, 3, 1]])"
            ]
          },
          "metadata": {
            "tags": []
          },
          "execution_count": 97
        }
      ]
    },
    {
      "cell_type": "code",
      "metadata": {
        "id": "aHlQR50mG4J2",
        "outputId": "8c15a576-3347-4059-b6e2-160a8aab7724",
        "colab": {
          "base_uri": "https://localhost:8080/"
        }
      },
      "source": [
        "A"
      ],
      "execution_count": 98,
      "outputs": [
        {
          "output_type": "execute_result",
          "data": {
            "text/plain": [
              "array([[1, 2, 3],\n",
              "       [4, 5, 6],\n",
              "       [7, 8, 9]])"
            ]
          },
          "metadata": {
            "tags": []
          },
          "execution_count": 98
        }
      ]
    },
    {
      "cell_type": "code",
      "metadata": {
        "id": "A1qj1jj7G6QK",
        "outputId": "fc708db8-39aa-40f4-b755-20441919622d",
        "colab": {
          "base_uri": "https://localhost:8080/"
        }
      },
      "source": [
        "B.T @ A #transportion and cross product."
      ],
      "execution_count": 99,
      "outputs": [
        {
          "output_type": "execute_result",
          "data": {
            "text/plain": [
              "array([[36, 48, 60],\n",
              "       [24, 33, 42]])"
            ]
          },
          "metadata": {
            "tags": []
          },
          "execution_count": 99
        }
      ]
    },
    {
      "cell_type": "code",
      "metadata": {
        "id": "iSAhCmulG-8-"
      },
      "source": [
        ""
      ],
      "execution_count": null,
      "outputs": []
    },
    {
      "cell_type": "markdown",
      "metadata": {
        "id": "fpXQtoJNHV_w"
      },
      "source": [
        "Size of objects in Memory"
      ]
    },
    {
      "cell_type": "code",
      "metadata": {
        "id": "_1gyRIWEHXwO"
      },
      "source": [
        ""
      ],
      "execution_count": null,
      "outputs": []
    },
    {
      "cell_type": "markdown",
      "metadata": {
        "id": "FGfy6L7HHYvy"
      },
      "source": [
        "int, floats"
      ]
    },
    {
      "cell_type": "code",
      "metadata": {
        "id": "MHwKbWK6HZ_7",
        "outputId": "6d17d9ad-e71a-4278-f748-284270c6ec08",
        "colab": {
          "base_uri": "https://localhost:8080/"
        }
      },
      "source": [
        "sys.getsizeof(1) #total number of bytes needed for integer"
      ],
      "execution_count": 100,
      "outputs": [
        {
          "output_type": "execute_result",
          "data": {
            "text/plain": [
              "28"
            ]
          },
          "metadata": {
            "tags": []
          },
          "execution_count": 100
        }
      ]
    },
    {
      "cell_type": "code",
      "metadata": {
        "id": "HUEbPtIaHcKR",
        "outputId": "8774b0b0-e439-47d4-f72d-a49b25e2d97c",
        "colab": {
          "base_uri": "https://localhost:8080/"
        }
      },
      "source": [
        "sys.getsizeof(10**100)"
      ],
      "execution_count": 101,
      "outputs": [
        {
          "output_type": "execute_result",
          "data": {
            "text/plain": [
              "72"
            ]
          },
          "metadata": {
            "tags": []
          },
          "execution_count": 101
        }
      ]
    },
    {
      "cell_type": "code",
      "metadata": {
        "id": "kFlepltAHk0C",
        "outputId": "23466cfb-0aeb-4ae5-ffcf-bf6f94f0c953",
        "colab": {
          "base_uri": "https://localhost:8080/"
        }
      },
      "source": [
        "np.dtype(int).itemsize #how many bytes it takes for numpy"
      ],
      "execution_count": 102,
      "outputs": [
        {
          "output_type": "execute_result",
          "data": {
            "text/plain": [
              "8"
            ]
          },
          "metadata": {
            "tags": []
          },
          "execution_count": 102
        }
      ]
    },
    {
      "cell_type": "code",
      "metadata": {
        "id": "HfnnWfkpHnHv",
        "outputId": "ff10db40-a0f9-4346-d154-f827ee8c1b24",
        "colab": {
          "base_uri": "https://localhost:8080/"
        }
      },
      "source": [
        "np.dtype(float).itemsize"
      ],
      "execution_count": 103,
      "outputs": [
        {
          "output_type": "execute_result",
          "data": {
            "text/plain": [
              "8"
            ]
          },
          "metadata": {
            "tags": []
          },
          "execution_count": 103
        }
      ]
    },
    {
      "cell_type": "code",
      "metadata": {
        "id": "5w9FgoAeH4UR",
        "outputId": "bcdb367b-3e88-425f-c03f-0df4d863e2a5",
        "colab": {
          "base_uri": "https://localhost:8080/"
        }
      },
      "source": [
        "np.dtype(int).itemsize"
      ],
      "execution_count": 104,
      "outputs": [
        {
          "output_type": "execute_result",
          "data": {
            "text/plain": [
              "8"
            ]
          },
          "metadata": {
            "tags": []
          },
          "execution_count": 104
        }
      ]
    },
    {
      "cell_type": "code",
      "metadata": {
        "id": "Cu-5FVQZInaf",
        "outputId": "debdb50f-f697-4c68-b29e-8e7e0af860ee",
        "colab": {
          "base_uri": "https://localhost:8080/"
        }
      },
      "source": [
        "np.dtype(np.int8).itemsize"
      ],
      "execution_count": 106,
      "outputs": [
        {
          "output_type": "execute_result",
          "data": {
            "text/plain": [
              "1"
            ]
          },
          "metadata": {
            "tags": []
          },
          "execution_count": 106
        }
      ]
    },
    {
      "cell_type": "markdown",
      "metadata": {
        "id": "-y8iNJRgH5ln"
      },
      "source": [
        "Lists are even larger"
      ]
    },
    {
      "cell_type": "code",
      "metadata": {
        "id": "BhRw2vUDIIxJ",
        "outputId": "572496fd-6873-4d50-a6a7-debd5bd60218",
        "colab": {
          "base_uri": "https://localhost:8080/"
        }
      },
      "source": [
        " sys.getsizeof([1]) #a one-element list"
      ],
      "execution_count": 107,
      "outputs": [
        {
          "output_type": "execute_result",
          "data": {
            "text/plain": [
              "80"
            ]
          },
          "metadata": {
            "tags": []
          },
          "execution_count": 107
        }
      ]
    },
    {
      "cell_type": "code",
      "metadata": {
        "id": "VhTfRhYgI5Ww"
      },
      "source": [
        "# An array of one element in numpy"
      ],
      "execution_count": 108,
      "outputs": []
    },
    {
      "cell_type": "code",
      "metadata": {
        "id": "VINzw3JGI9VF",
        "outputId": "72f8c2fd-3e31-4b0d-d06c-28b7c946c281",
        "colab": {
          "base_uri": "https://localhost:8080/"
        }
      },
      "source": [
        "np.array([1]).nbytes"
      ],
      "execution_count": 109,
      "outputs": [
        {
          "output_type": "execute_result",
          "data": {
            "text/plain": [
              "8"
            ]
          },
          "metadata": {
            "tags": []
          },
          "execution_count": 109
        }
      ]
    },
    {
      "cell_type": "code",
      "metadata": {
        "id": "sRqLD9rVJFi9"
      },
      "source": [
        ""
      ],
      "execution_count": null,
      "outputs": []
    },
    {
      "cell_type": "markdown",
      "metadata": {
        "id": "zSOKV3c2JHAC"
      },
      "source": [
        "and performance is also important"
      ]
    },
    {
      "cell_type": "code",
      "metadata": {
        "id": "i0dMZ4QoJJQG"
      },
      "source": [
        "l = list(range(100000))"
      ],
      "execution_count": 111,
      "outputs": []
    },
    {
      "cell_type": "code",
      "metadata": {
        "id": "hGxfD7g2JKth"
      },
      "source": [
        "a = np.arange(100000)"
      ],
      "execution_count": 115,
      "outputs": []
    },
    {
      "cell_type": "code",
      "metadata": {
        "id": "RS1NG_YXJN2-",
        "outputId": "05d27602-8a91-4377-ac97-3c681bcc12ef",
        "colab": {
          "base_uri": "https://localhost:8080/"
        }
      },
      "source": [
        "%time np.sum(a ** 2)"
      ],
      "execution_count": 116,
      "outputs": [
        {
          "output_type": "stream",
          "text": [
            "CPU times: user 2.19 ms, sys: 0 ns, total: 2.19 ms\n",
            "Wall time: 1.45 ms\n"
          ],
          "name": "stdout"
        },
        {
          "output_type": "execute_result",
          "data": {
            "text/plain": [
              "333328333350000"
            ]
          },
          "metadata": {
            "tags": []
          },
          "execution_count": 116
        }
      ]
    },
    {
      "cell_type": "code",
      "metadata": {
        "id": "5OLNVjm6JRTP",
        "outputId": "9dbf0321-ed31-462f-c65a-2c35535ad72c",
        "colab": {
          "base_uri": "https://localhost:8080/"
        }
      },
      "source": [
        "%time sum([x ** 2 for x in l])"
      ],
      "execution_count": 117,
      "outputs": [
        {
          "output_type": "stream",
          "text": [
            "CPU times: user 489 µs, sys: 0 ns, total: 489 µs\n",
            "Wall time: 1.34 ms\n"
          ],
          "name": "stdout"
        },
        {
          "output_type": "execute_result",
          "data": {
            "text/plain": [
              "332833500"
            ]
          },
          "metadata": {
            "tags": []
          },
          "execution_count": 117
        }
      ]
    },
    {
      "cell_type": "code",
      "metadata": {
        "id": "8uBDU7FHJWvg"
      },
      "source": [
        ""
      ],
      "execution_count": null,
      "outputs": []
    },
    {
      "cell_type": "markdown",
      "metadata": {
        "id": "0ftn30w6JwYT"
      },
      "source": [
        "Useful numpy functions"
      ]
    },
    {
      "cell_type": "code",
      "metadata": {
        "id": "ZHFxBPXQJ-NA"
      },
      "source": [
        ""
      ],
      "execution_count": null,
      "outputs": []
    },
    {
      "cell_type": "markdown",
      "metadata": {
        "id": "yIgusYtnJ_v4"
      },
      "source": [
        "random"
      ]
    },
    {
      "cell_type": "code",
      "metadata": {
        "id": "gAtiopTRKAEK",
        "outputId": "00d8f523-f2cd-40ac-e6db-d5877349c03e",
        "colab": {
          "base_uri": "https://localhost:8080/"
        }
      },
      "source": [
        "np.random.random(size = 2)"
      ],
      "execution_count": 118,
      "outputs": [
        {
          "output_type": "execute_result",
          "data": {
            "text/plain": [
              "array([0.95640973, 0.29469385])"
            ]
          },
          "metadata": {
            "tags": []
          },
          "execution_count": 118
        }
      ]
    },
    {
      "cell_type": "code",
      "metadata": {
        "id": "JgVmwKJ2KBy9",
        "outputId": "112a0df6-d288-4602-df22-b387c017017e",
        "colab": {
          "base_uri": "https://localhost:8080/"
        }
      },
      "source": [
        "np.random.normal(size = 2)"
      ],
      "execution_count": 119,
      "outputs": [
        {
          "output_type": "execute_result",
          "data": {
            "text/plain": [
              "array([0.67010703, 2.30967305])"
            ]
          },
          "metadata": {
            "tags": []
          },
          "execution_count": 119
        }
      ]
    },
    {
      "cell_type": "code",
      "metadata": {
        "id": "vSbyg9PlKEIM",
        "outputId": "e6b29b17-158e-4305-f5bf-68d2e5aac331",
        "colab": {
          "base_uri": "https://localhost:8080/"
        }
      },
      "source": [
        "np.random.rand(2, 4)"
      ],
      "execution_count": 120,
      "outputs": [
        {
          "output_type": "execute_result",
          "data": {
            "text/plain": [
              "array([[0.36398332, 0.53366988, 0.03373987, 0.58009804],\n",
              "       [0.2983368 , 0.70342397, 0.19186805, 0.63846921]])"
            ]
          },
          "metadata": {
            "tags": []
          },
          "execution_count": 120
        }
      ]
    },
    {
      "cell_type": "code",
      "metadata": {
        "id": "BI0_NGobKTwr"
      },
      "source": [
        ""
      ],
      "execution_count": null,
      "outputs": []
    },
    {
      "cell_type": "markdown",
      "metadata": {
        "id": "nzzY0zgLKUMh"
      },
      "source": [
        "arange"
      ]
    },
    {
      "cell_type": "code",
      "metadata": {
        "id": "cRW7TBnnKF7z",
        "outputId": "682d203b-50fc-4654-ff35-d4b91da8eab8",
        "colab": {
          "base_uri": "https://localhost:8080/"
        }
      },
      "source": [
        "np.arange(10)"
      ],
      "execution_count": 124,
      "outputs": [
        {
          "output_type": "execute_result",
          "data": {
            "text/plain": [
              "array([0, 1, 2, 3, 4, 5, 6, 7, 8, 9])"
            ]
          },
          "metadata": {
            "tags": []
          },
          "execution_count": 124
        }
      ]
    },
    {
      "cell_type": "code",
      "metadata": {
        "id": "xtmpAlF3KQ4z"
      },
      "source": [
        ""
      ],
      "execution_count": null,
      "outputs": []
    },
    {
      "cell_type": "code",
      "metadata": {
        "id": "ehmVH7xdKIkl",
        "outputId": "fbf1d271-3794-4b66-8e21-b40253fa6204",
        "colab": {
          "base_uri": "https://localhost:8080/"
        }
      },
      "source": [
        "np.arange(5,10)"
      ],
      "execution_count": 122,
      "outputs": [
        {
          "output_type": "execute_result",
          "data": {
            "text/plain": [
              "array([5, 6, 7, 8, 9])"
            ]
          },
          "metadata": {
            "tags": []
          },
          "execution_count": 122
        }
      ]
    },
    {
      "cell_type": "code",
      "metadata": {
        "id": "MHPjxd99KKph",
        "outputId": "ad16495b-da81-43be-96af-faa78e236029",
        "colab": {
          "base_uri": "https://localhost:8080/"
        }
      },
      "source": [
        "np.arange(0,1,.1)"
      ],
      "execution_count": 123,
      "outputs": [
        {
          "output_type": "execute_result",
          "data": {
            "text/plain": [
              "array([0. , 0.1, 0.2, 0.3, 0.4, 0.5, 0.6, 0.7, 0.8, 0.9])"
            ]
          },
          "metadata": {
            "tags": []
          },
          "execution_count": 123
        }
      ]
    },
    {
      "cell_type": "code",
      "metadata": {
        "id": "7Ao7hBDeKMhI"
      },
      "source": [
        ""
      ],
      "execution_count": null,
      "outputs": []
    },
    {
      "cell_type": "markdown",
      "metadata": {
        "id": "pMiU4fiyKVcj"
      },
      "source": [
        "reshape "
      ]
    },
    {
      "cell_type": "code",
      "metadata": {
        "id": "Z4KBYhbpKYIm",
        "outputId": "7e73fdcc-f0af-4f52-d4fd-0676b6cfdebc",
        "colab": {
          "base_uri": "https://localhost:8080/"
        }
      },
      "source": [
        "np.arange(10).reshape(2,5)"
      ],
      "execution_count": 125,
      "outputs": [
        {
          "output_type": "execute_result",
          "data": {
            "text/plain": [
              "array([[0, 1, 2, 3, 4],\n",
              "       [5, 6, 7, 8, 9]])"
            ]
          },
          "metadata": {
            "tags": []
          },
          "execution_count": 125
        }
      ]
    },
    {
      "cell_type": "code",
      "metadata": {
        "id": "UWi0-UxeKcHl",
        "outputId": "72ad17b7-8a59-405d-87a3-0c72fbb92fc7",
        "colab": {
          "base_uri": "https://localhost:8080/"
        }
      },
      "source": [
        "np.arange(10).reshape(5,2)"
      ],
      "execution_count": 126,
      "outputs": [
        {
          "output_type": "execute_result",
          "data": {
            "text/plain": [
              "array([[0, 1],\n",
              "       [2, 3],\n",
              "       [4, 5],\n",
              "       [6, 7],\n",
              "       [8, 9]])"
            ]
          },
          "metadata": {
            "tags": []
          },
          "execution_count": 126
        }
      ]
    },
    {
      "cell_type": "code",
      "metadata": {
        "id": "9jvjz-rTKgBL"
      },
      "source": [
        ""
      ],
      "execution_count": null,
      "outputs": []
    },
    {
      "cell_type": "markdown",
      "metadata": {
        "id": "B4DwZa-RKiYu"
      },
      "source": [
        "linspace"
      ]
    },
    {
      "cell_type": "code",
      "metadata": {
        "id": "PKPbvO4WKjLx",
        "outputId": "659f10ec-7ed9-4f53-8d9d-9bd1040eec14",
        "colab": {
          "base_uri": "https://localhost:8080/"
        }
      },
      "source": [
        "np.linspace(0,1,5)"
      ],
      "execution_count": 127,
      "outputs": [
        {
          "output_type": "execute_result",
          "data": {
            "text/plain": [
              "array([0.  , 0.25, 0.5 , 0.75, 1.  ])"
            ]
          },
          "metadata": {
            "tags": []
          },
          "execution_count": 127
        }
      ]
    },
    {
      "cell_type": "code",
      "metadata": {
        "id": "1hB9rSM_Koff",
        "outputId": "780ce010-796f-48fa-ebaa-24b08e188312",
        "colab": {
          "base_uri": "https://localhost:8080/"
        }
      },
      "source": [
        "np.linspace(0,1,20)"
      ],
      "execution_count": 128,
      "outputs": [
        {
          "output_type": "execute_result",
          "data": {
            "text/plain": [
              "array([0.        , 0.05263158, 0.10526316, 0.15789474, 0.21052632,\n",
              "       0.26315789, 0.31578947, 0.36842105, 0.42105263, 0.47368421,\n",
              "       0.52631579, 0.57894737, 0.63157895, 0.68421053, 0.73684211,\n",
              "       0.78947368, 0.84210526, 0.89473684, 0.94736842, 1.        ])"
            ]
          },
          "metadata": {
            "tags": []
          },
          "execution_count": 128
        }
      ]
    },
    {
      "cell_type": "code",
      "metadata": {
        "id": "cz1yNM8kKr5y",
        "outputId": "4658ab8f-380e-40c9-8b73-6893c86ef7a8",
        "colab": {
          "base_uri": "https://localhost:8080/"
        }
      },
      "source": [
        "np.linspace(0,1,20,False)"
      ],
      "execution_count": 129,
      "outputs": [
        {
          "output_type": "execute_result",
          "data": {
            "text/plain": [
              "array([0.  , 0.05, 0.1 , 0.15, 0.2 , 0.25, 0.3 , 0.35, 0.4 , 0.45, 0.5 ,\n",
              "       0.55, 0.6 , 0.65, 0.7 , 0.75, 0.8 , 0.85, 0.9 , 0.95])"
            ]
          },
          "metadata": {
            "tags": []
          },
          "execution_count": 129
        }
      ]
    },
    {
      "cell_type": "code",
      "metadata": {
        "id": "-1lyU_w7KzcD"
      },
      "source": [
        ""
      ],
      "execution_count": null,
      "outputs": []
    },
    {
      "cell_type": "markdown",
      "metadata": {
        "id": "kakNA09wK69X"
      },
      "source": [
        "zeros, ones, empty"
      ]
    },
    {
      "cell_type": "code",
      "metadata": {
        "id": "HQSWK13iK8Dd",
        "outputId": "904f9d62-58ae-406b-f2d2-8f15c3000cba",
        "colab": {
          "base_uri": "https://localhost:8080/"
        }
      },
      "source": [
        "np.zeros(5)"
      ],
      "execution_count": 131,
      "outputs": [
        {
          "output_type": "execute_result",
          "data": {
            "text/plain": [
              "array([0., 0., 0., 0., 0.])"
            ]
          },
          "metadata": {
            "tags": []
          },
          "execution_count": 131
        }
      ]
    },
    {
      "cell_type": "code",
      "metadata": {
        "id": "m2lVSqj_K9bi",
        "outputId": "f6d07120-29e6-4738-e0af-b554cf5c1396",
        "colab": {
          "base_uri": "https://localhost:8080/"
        }
      },
      "source": [
        "np.eye(3,3)"
      ],
      "execution_count": 132,
      "outputs": [
        {
          "output_type": "execute_result",
          "data": {
            "text/plain": [
              "array([[1., 0., 0.],\n",
              "       [0., 1., 0.],\n",
              "       [0., 0., 1.]])"
            ]
          },
          "metadata": {
            "tags": []
          },
          "execution_count": 132
        }
      ]
    },
    {
      "cell_type": "code",
      "metadata": {
        "id": "nLq5JkxQLAHp",
        "outputId": "0ed1ca34-5d0a-4f9d-d2af-1bc2cfe672fb",
        "colab": {
          "base_uri": "https://localhost:8080/"
        }
      },
      "source": [
        "np.eye(8,4)"
      ],
      "execution_count": 133,
      "outputs": [
        {
          "output_type": "execute_result",
          "data": {
            "text/plain": [
              "array([[1., 0., 0., 0.],\n",
              "       [0., 1., 0., 0.],\n",
              "       [0., 0., 1., 0.],\n",
              "       [0., 0., 0., 1.],\n",
              "       [0., 0., 0., 0.],\n",
              "       [0., 0., 0., 0.],\n",
              "       [0., 0., 0., 0.],\n",
              "       [0., 0., 0., 0.]])"
            ]
          },
          "metadata": {
            "tags": []
          },
          "execution_count": 133
        }
      ]
    },
    {
      "cell_type": "code",
      "metadata": {
        "id": "qtEu1Y58LFBS",
        "outputId": "464cd146-4ab8-4dcc-bd33-81be50784c55",
        "colab": {
          "base_uri": "https://localhost:8080/"
        }
      },
      "source": [
        "np.eye(8,4,k=1)"
      ],
      "execution_count": 134,
      "outputs": [
        {
          "output_type": "execute_result",
          "data": {
            "text/plain": [
              "array([[0., 1., 0., 0.],\n",
              "       [0., 0., 1., 0.],\n",
              "       [0., 0., 0., 1.],\n",
              "       [0., 0., 0., 0.],\n",
              "       [0., 0., 0., 0.],\n",
              "       [0., 0., 0., 0.],\n",
              "       [0., 0., 0., 0.],\n",
              "       [0., 0., 0., 0.]])"
            ]
          },
          "metadata": {
            "tags": []
          },
          "execution_count": 134
        }
      ]
    },
    {
      "cell_type": "code",
      "metadata": {
        "id": "XIGge3qULJHb",
        "outputId": "930e6d97-cc60-476f-8ca7-c0b3c24b455e",
        "colab": {
          "base_uri": "https://localhost:8080/"
        }
      },
      "source": [
        "np.eye(8,4,k=-3)"
      ],
      "execution_count": 136,
      "outputs": [
        {
          "output_type": "execute_result",
          "data": {
            "text/plain": [
              "array([[0., 0., 0., 0.],\n",
              "       [0., 0., 0., 0.],\n",
              "       [0., 0., 0., 0.],\n",
              "       [1., 0., 0., 0.],\n",
              "       [0., 1., 0., 0.],\n",
              "       [0., 0., 1., 0.],\n",
              "       [0., 0., 0., 1.],\n",
              "       [0., 0., 0., 0.]])"
            ]
          },
          "metadata": {
            "tags": []
          },
          "execution_count": 136
        }
      ]
    },
    {
      "cell_type": "code",
      "metadata": {
        "id": "Abk3_b0DLOCS",
        "outputId": "4abe63c0-10c4-4e22-db2a-398c673155ab",
        "colab": {
          "base_uri": "https://localhost:8080/",
          "height": 35
        }
      },
      "source": [
        "\"Hello World\"[6]"
      ],
      "execution_count": 137,
      "outputs": [
        {
          "output_type": "execute_result",
          "data": {
            "application/vnd.google.colaboratory.intrinsic+json": {
              "type": "string"
            },
            "text/plain": [
              "'W'"
            ]
          },
          "metadata": {
            "tags": []
          },
          "execution_count": 137
        }
      ]
    },
    {
      "cell_type": "code",
      "metadata": {
        "id": "1NvEsXLDLUD_"
      },
      "source": [
        ""
      ],
      "execution_count": null,
      "outputs": []
    }
  ]
}